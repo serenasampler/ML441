{
  "cells": [
    {
      "cell_type": "code",
      "execution_count": 1,
      "metadata": {
        "id": "Q2A8TGhKm3i5"
      },
      "outputs": [],
      "source": [
        "import openai\n",
        "import os\n",
        "import wikipedia"
      ]
    },
    {
      "cell_type": "markdown",
      "metadata": {
        "id": "7E9HEMJSX-3T"
      },
      "source": [
        "# 1.) Set up OpenAI and the enviornment\n"
      ]
    },
    {
      "cell_type": "code",
      "execution_count": null,
      "metadata": {
        "id": "4zwwdkZDYDZN"
      },
      "outputs": [],
      "source": [
        "# DONE"
      ]
    },
    {
      "cell_type": "code",
      "execution_count": 2,
      "metadata": {
        "id": "8IiKS0snlpYP"
      },
      "outputs": [],
      "source": [
        "openai.api_key = '...'\n",
        "\n",
        "client = openai.OpenAI(\n",
        "    api_key = openai.api_key,\n",
        ")"
      ]
    },
    {
      "cell_type": "markdown",
      "metadata": {
        "id": "tOXc5_BTm9HP"
      },
      "source": [
        "# 2.) Use the wikipedia api to get a function that pulls in the text of a wikipedia page"
      ]
    },
    {
      "cell_type": "code",
      "execution_count": 15,
      "metadata": {},
      "outputs": [],
      "source": [
        "# Define search terms\n",
        "page_titles = [\"Artificial Intelligence\", \"Machine Learning\"]\n",
        "## pick first one\n",
        "page_title = page_titles[0]"
      ]
    },
    {
      "cell_type": "code",
      "execution_count": 16,
      "metadata": {},
      "outputs": [],
      "source": [
        "def get_wiki(page_title):\n",
        "    #pull out all relevant wikipedia articles\n",
        "    search_results = wikipedia.search(page_title)\n",
        "    #get page for the first result\n",
        "    page = wikipedia.page(search_results[0])\n",
        "    return(page.content)"
      ]
    },
    {
      "cell_type": "markdown",
      "metadata": {
        "id": "_9aruncMmubX"
      },
      "source": [
        "# 3.) Build a chatgpt bot that will analyze the text given and try to locate any false info"
      ]
    },
    {
      "cell_type": "code",
      "execution_count": 20,
      "metadata": {
        "id": "Bmai3B6Dmw3O"
      },
      "outputs": [],
      "source": [
        "wiki_content = get_wiki(page_title)"
      ]
    },
    {
      "cell_type": "code",
      "execution_count": 22,
      "metadata": {
        "id": "1jI-un5PnDjg"
      },
      "outputs": [],
      "source": [
        "def chatgpt_correct(wiki_content):\n",
        "    chat_completion = client.chat.completions.create(\n",
        "        model = \"gpt-3.5-turbo\",\n",
        "        messages = [\n",
        "            {\"role\": \"system\", \"content\": \"I will be passing you an article and let me know if anything is potentially false. Go through it with a fine tooth comb and have low sensitivity for locating potential errors. If there are errors, please number them and be very concise when quoting them. If there are no error sfound, then just return 'NONE'\"},\n",
        "            {\"role\": \"user\", \"content\": wiki_content[:8192]}\n",
        "        ]\n",
        "    )\n",
        "    print(chat_completion.choices[0].message.content)"
      ]
    },
    {
      "cell_type": "markdown",
      "metadata": {
        "id": "zPw5LyPEobmk"
      },
      "source": [
        "# 4.) Make a for loop and check a few wikipedia pages and return a report of any potentially false info via wikipedia"
      ]
    },
    {
      "cell_type": "code",
      "execution_count": 23,
      "metadata": {
        "id": "V7cuhML2ocGn"
      },
      "outputs": [
        {
          "name": "stdout",
          "output_type": "stream",
          "text": [
            "____________page_title\n",
            "NONE\n",
            "None\n",
            "____________page_title\n",
            "ERROR\n",
            "____________page_title\n",
            "In the statement \"the branch was transferred to the University of California, becoming the Southern Branch of UC in 1919, making it the second-oldest of the ten-campus University of California system after the University of California, Berkeley,\" The branch did not evolve into San José State University. This is incorrect. \n",
            "\n",
            "- Gabriel Piterberg was accused of sexually assaulting two students, not a graduate student adviser.\n",
            "None\n",
            "____________page_title\n",
            "ERROR\n"
          ]
        }
      ],
      "source": [
        "page_titles = [\"Artificial Intelligence\", \"Machine Learning\", \"UCLA\"]\n",
        "\n",
        "\n",
        "for page_title in page_titles:\n",
        "    print(\"____________\" + \"page_title\")\n",
        "    try:\n",
        "        text = get_wiki(page_title)\n",
        "        print(chatgpt_correct(text[:8192]))\n",
        "    except:\n",
        "        print(\"ERROR\")"
      ]
    }
  ],
  "metadata": {
    "colab": {
      "provenance": []
    },
    "kernelspec": {
      "display_name": "Python 3",
      "name": "python3"
    },
    "language_info": {
      "codemirror_mode": {
        "name": "ipython",
        "version": 3
      },
      "file_extension": ".py",
      "mimetype": "text/x-python",
      "name": "python",
      "nbconvert_exporter": "python",
      "pygments_lexer": "ipython3",
      "version": "3.11.4"
    }
  },
  "nbformat": 4,
  "nbformat_minor": 0
}
