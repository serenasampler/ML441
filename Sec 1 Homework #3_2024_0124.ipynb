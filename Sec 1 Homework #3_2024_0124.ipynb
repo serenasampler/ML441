{
 "cells": [
  {
   "cell_type": "code",
   "execution_count": 1,
   "id": "1022e4d8",
   "metadata": {},
   "outputs": [],
   "source": [
    " ## Import libraries\n",
    "import datetime\n",
    "from fredapi import Fred\n",
    "import numpy as np\n",
    "import pandas as pd\n",
    "from pytrends.request import TrendReq\n",
    "import seaborn as sns\n",
    "import matplotlib.pyplot as plt\n",
    "import matplotlib.lines as mlines\n",
    "from sklearn.linear_model import LinearRegression\n",
    "from sklearn.linear_model import Lasso\n",
    "from sklearn.model_selection import train_test_split\n",
    "from sklearn import metrics\n",
    "from sklearn.preprocessing import StandardScaler\n",
    "import statsmodels.api as sm\n",
    "import statsmodels.formula.api as smf\n",
    "import yfinance as yf"
   ]
  },
  {
   "cell_type": "markdown",
   "id": "a98f5070",
   "metadata": {},
   "source": [
    "# 0.) Clean the Apple Data to get a quarterly series of EPS."
   ]
  },
  {
   "cell_type": "code",
   "execution_count": 2,
   "id": "c7f8e883",
   "metadata": {},
   "outputs": [],
   "source": [
    "apple_raw = pd.read_csv('AAPL_quarterly_financials.csv')\n",
    "apple_raw.index = apple_raw.name\n",
    "apple = pd.DataFrame(apple_raw.loc[\"BasicEPS\"]).iloc[2:,]"
   ]
  },
  {
   "cell_type": "code",
   "execution_count": 3,
   "id": "03689840",
   "metadata": {},
   "outputs": [],
   "source": [
    "apple.index = pd.to_datetime(apple.index)\n",
    "#Check if NAs are NO Dividend Period (why are there NA's??)\n",
    "apple = apple.sort_index().fillna(0,)\n",
    "\n",
    "#Cut to match length\n",
    "apple_lim = apple[apple.index >= '2003-09-30']"
   ]
  },
  {
   "cell_type": "markdown",
   "id": "189ef7f3",
   "metadata": {},
   "source": [
    "# 1.) Come up with 6 search terms you think could nowcast earnings. (Different than the ones I used) Add in 3 terms that that you think will not Nowcast earnings. Pull in the gtrends data. Clean it to have a quarterly average."
   ]
  },
  {
   "cell_type": "code",
   "execution_count": 4,
   "id": "c50f7120",
   "metadata": {},
   "outputs": [],
   "source": [
    "# Create pytrends object\n",
    "pytrends = TrendReq(hl='en-US', tz=360)\n",
    "\n",
    "# Set up the keywords and the timeframe\n",
    "keywords = [\"Steve Jobs\", \"Macbook\", \"Tarriff\" , \"Labor Shortage\" , \"Minimum Wage\", \"Keynote\", \"Soap\", \"Banana\", \"Airplane\"]  # Add your keywords here\n",
    "start_date = '2004-01-01'\n",
    "end_date = '2024-01-01'\n",
    "\n",
    "# Create an empty DataFrame to store the results\n",
    "df = pd.DataFrame()\n",
    "\n",
    "# Iterate through keywords and fetch data\n",
    "for keyword in keywords:\n",
    "    pytrends.build_payload([keyword], cat=0, timeframe=f'{start_date} {end_date}', geo='', gprop='')\n",
    "    interest_over_time_df = pytrends.interest_over_time()\n",
    "    df[keyword] = interest_over_time_df[keyword]"
   ]
  },
  {
   "cell_type": "code",
   "execution_count": 5,
   "id": "f4a02321",
   "metadata": {},
   "outputs": [
    {
     "data": {
      "text/html": [
       "<div>\n",
       "<style scoped>\n",
       "    .dataframe tbody tr th:only-of-type {\n",
       "        vertical-align: middle;\n",
       "    }\n",
       "\n",
       "    .dataframe tbody tr th {\n",
       "        vertical-align: top;\n",
       "    }\n",
       "\n",
       "    .dataframe thead th {\n",
       "        text-align: right;\n",
       "    }\n",
       "</style>\n",
       "<table border=\"1\" class=\"dataframe\">\n",
       "  <thead>\n",
       "    <tr style=\"text-align: right;\">\n",
       "      <th></th>\n",
       "      <th>Steve Jobs</th>\n",
       "      <th>Macbook</th>\n",
       "      <th>Tarriff</th>\n",
       "      <th>Labor Shortage</th>\n",
       "      <th>Minimum Wage</th>\n",
       "      <th>Keynote</th>\n",
       "      <th>Soap</th>\n",
       "      <th>Banana</th>\n",
       "      <th>Airplane</th>\n",
       "    </tr>\n",
       "    <tr>\n",
       "      <th>date</th>\n",
       "      <th></th>\n",
       "      <th></th>\n",
       "      <th></th>\n",
       "      <th></th>\n",
       "      <th></th>\n",
       "      <th></th>\n",
       "      <th></th>\n",
       "      <th></th>\n",
       "      <th></th>\n",
       "    </tr>\n",
       "  </thead>\n",
       "  <tbody>\n",
       "    <tr>\n",
       "      <th>2004-03-31</th>\n",
       "      <td>1.000000</td>\n",
       "      <td>0.000000</td>\n",
       "      <td>73.000000</td>\n",
       "      <td>16.333333</td>\n",
       "      <td>39.333333</td>\n",
       "      <td>24.333333</td>\n",
       "      <td>79.333333</td>\n",
       "      <td>37.666667</td>\n",
       "      <td>96.666667</td>\n",
       "    </tr>\n",
       "    <tr>\n",
       "      <th>2004-06-30</th>\n",
       "      <td>0.666667</td>\n",
       "      <td>0.000000</td>\n",
       "      <td>74.666667</td>\n",
       "      <td>26.000000</td>\n",
       "      <td>41.000000</td>\n",
       "      <td>19.666667</td>\n",
       "      <td>76.333333</td>\n",
       "      <td>41.333333</td>\n",
       "      <td>90.333333</td>\n",
       "    </tr>\n",
       "    <tr>\n",
       "      <th>2004-09-30</th>\n",
       "      <td>1.000000</td>\n",
       "      <td>0.000000</td>\n",
       "      <td>74.333333</td>\n",
       "      <td>15.666667</td>\n",
       "      <td>39.666667</td>\n",
       "      <td>26.000000</td>\n",
       "      <td>74.666667</td>\n",
       "      <td>41.333333</td>\n",
       "      <td>86.333333</td>\n",
       "    </tr>\n",
       "    <tr>\n",
       "      <th>2004-12-31</th>\n",
       "      <td>1.000000</td>\n",
       "      <td>0.000000</td>\n",
       "      <td>82.000000</td>\n",
       "      <td>15.666667</td>\n",
       "      <td>38.000000</td>\n",
       "      <td>17.333333</td>\n",
       "      <td>67.666667</td>\n",
       "      <td>46.333333</td>\n",
       "      <td>89.666667</td>\n",
       "    </tr>\n",
       "    <tr>\n",
       "      <th>2005-03-31</th>\n",
       "      <td>1.000000</td>\n",
       "      <td>0.000000</td>\n",
       "      <td>77.000000</td>\n",
       "      <td>22.000000</td>\n",
       "      <td>39.333333</td>\n",
       "      <td>33.666667</td>\n",
       "      <td>70.000000</td>\n",
       "      <td>45.333333</td>\n",
       "      <td>88.000000</td>\n",
       "    </tr>\n",
       "    <tr>\n",
       "      <th>...</th>\n",
       "      <td>...</td>\n",
       "      <td>...</td>\n",
       "      <td>...</td>\n",
       "      <td>...</td>\n",
       "      <td>...</td>\n",
       "      <td>...</td>\n",
       "      <td>...</td>\n",
       "      <td>...</td>\n",
       "      <td>...</td>\n",
       "    </tr>\n",
       "    <tr>\n",
       "      <th>2023-03-31</th>\n",
       "      <td>1.333333</td>\n",
       "      <td>75.000000</td>\n",
       "      <td>23.333333</td>\n",
       "      <td>36.333333</td>\n",
       "      <td>70.333333</td>\n",
       "      <td>17.333333</td>\n",
       "      <td>70.000000</td>\n",
       "      <td>64.000000</td>\n",
       "      <td>52.666667</td>\n",
       "    </tr>\n",
       "    <tr>\n",
       "      <th>2023-06-30</th>\n",
       "      <td>1.000000</td>\n",
       "      <td>65.666667</td>\n",
       "      <td>20.333333</td>\n",
       "      <td>29.333333</td>\n",
       "      <td>68.333333</td>\n",
       "      <td>17.333333</td>\n",
       "      <td>70.666667</td>\n",
       "      <td>64.333333</td>\n",
       "      <td>52.333333</td>\n",
       "    </tr>\n",
       "    <tr>\n",
       "      <th>2023-09-30</th>\n",
       "      <td>1.333333</td>\n",
       "      <td>73.333333</td>\n",
       "      <td>22.000000</td>\n",
       "      <td>27.666667</td>\n",
       "      <td>62.000000</td>\n",
       "      <td>19.333333</td>\n",
       "      <td>72.666667</td>\n",
       "      <td>65.666667</td>\n",
       "      <td>54.666667</td>\n",
       "    </tr>\n",
       "    <tr>\n",
       "      <th>2023-12-31</th>\n",
       "      <td>1.000000</td>\n",
       "      <td>76.000000</td>\n",
       "      <td>22.666667</td>\n",
       "      <td>29.333333</td>\n",
       "      <td>64.333333</td>\n",
       "      <td>15.666667</td>\n",
       "      <td>68.333333</td>\n",
       "      <td>60.333333</td>\n",
       "      <td>49.000000</td>\n",
       "    </tr>\n",
       "    <tr>\n",
       "      <th>2024-03-31</th>\n",
       "      <td>1.000000</td>\n",
       "      <td>78.000000</td>\n",
       "      <td>25.000000</td>\n",
       "      <td>25.000000</td>\n",
       "      <td>78.000000</td>\n",
       "      <td>15.000000</td>\n",
       "      <td>73.000000</td>\n",
       "      <td>60.000000</td>\n",
       "      <td>65.000000</td>\n",
       "    </tr>\n",
       "  </tbody>\n",
       "</table>\n",
       "<p>81 rows × 9 columns</p>\n",
       "</div>"
      ],
      "text/plain": [
       "            Steve Jobs    Macbook    Tarriff  Labor Shortage  Minimum Wage  \\\n",
       "date                                                                         \n",
       "2004-03-31    1.000000   0.000000  73.000000       16.333333     39.333333   \n",
       "2004-06-30    0.666667   0.000000  74.666667       26.000000     41.000000   \n",
       "2004-09-30    1.000000   0.000000  74.333333       15.666667     39.666667   \n",
       "2004-12-31    1.000000   0.000000  82.000000       15.666667     38.000000   \n",
       "2005-03-31    1.000000   0.000000  77.000000       22.000000     39.333333   \n",
       "...                ...        ...        ...             ...           ...   \n",
       "2023-03-31    1.333333  75.000000  23.333333       36.333333     70.333333   \n",
       "2023-06-30    1.000000  65.666667  20.333333       29.333333     68.333333   \n",
       "2023-09-30    1.333333  73.333333  22.000000       27.666667     62.000000   \n",
       "2023-12-31    1.000000  76.000000  22.666667       29.333333     64.333333   \n",
       "2024-03-31    1.000000  78.000000  25.000000       25.000000     78.000000   \n",
       "\n",
       "              Keynote       Soap     Banana   Airplane  \n",
       "date                                                    \n",
       "2004-03-31  24.333333  79.333333  37.666667  96.666667  \n",
       "2004-06-30  19.666667  76.333333  41.333333  90.333333  \n",
       "2004-09-30  26.000000  74.666667  41.333333  86.333333  \n",
       "2004-12-31  17.333333  67.666667  46.333333  89.666667  \n",
       "2005-03-31  33.666667  70.000000  45.333333  88.000000  \n",
       "...               ...        ...        ...        ...  \n",
       "2023-03-31  17.333333  70.000000  64.000000  52.666667  \n",
       "2023-06-30  17.333333  70.666667  64.333333  52.333333  \n",
       "2023-09-30  19.333333  72.666667  65.666667  54.666667  \n",
       "2023-12-31  15.666667  68.333333  60.333333  49.000000  \n",
       "2024-03-31  15.000000  73.000000  60.000000  65.000000  \n",
       "\n",
       "[81 rows x 9 columns]"
      ]
     },
     "execution_count": 5,
     "metadata": {},
     "output_type": "execute_result"
    }
   ],
   "source": [
    "#Resample to Make it Quarterly \n",
    "dfq = df.resample(\"Q\").mean()\n",
    "dfq"
   ]
  },
  {
   "cell_type": "markdown",
   "id": "9c04f4f3",
   "metadata": {},
   "source": [
    "# 2.) Import data. Train, Test, Holdout (80%,15%,5%)"
   ]
  },
  {
   "cell_type": "code",
   "execution_count": 6,
   "id": "bd720ef3",
   "metadata": {},
   "outputs": [],
   "source": [
    "#Test Train Split\n",
    "X_train, X_temp, y_train, y_temp = train_test_split(dfq, apple_lim, test_size = 0.2, random_state = 50)\n",
    "\n",
    "#Test-Holdout Split\n",
    "X_test, X_holdout, y_test, y_holdout = train_test_split(X_temp, y_temp, test_size = 0.25, random_state = 50)"
   ]
  },
  {
   "cell_type": "markdown",
   "id": "634a67f8",
   "metadata": {},
   "source": [
    "# 3.) Normalize all the X data"
   ]
  },
  {
   "cell_type": "code",
   "execution_count": 18,
   "id": "d7b89546",
   "metadata": {},
   "outputs": [],
   "source": [
    "scaler = StandardScaler()\n",
    "X_scaled = scaler.fit_transform(X_train)"
   ]
  },
  {
   "cell_type": "markdown",
   "id": "da43d5ef",
   "metadata": {},
   "source": [
    "# 4.) Run a Lasso with lambda of .5. Plot a bar chart."
   ]
  },
  {
   "cell_type": "code",
   "execution_count": 54,
   "id": "b7ff06aa",
   "metadata": {},
   "outputs": [
    {
     "data": {
      "text/plain": [
       "array([-0.        ,  0.        , -0.10048237,  0.        ,  0.        ,\n",
       "       -0.        ,  0.        ,  0.00161799, -0.        ])"
      ]
     },
     "execution_count": 54,
     "metadata": {},
     "output_type": "execute_result"
    }
   ],
   "source": [
    "lasso = Lasso(alpha = 0.3)\n",
    "    #no cols appear at lambda = 0.5\n",
    "lasso.fit(X_scaled, y_train)\n",
    "coefficients = lasso.coef_\n",
    "coefficients"
   ]
  },
  {
   "cell_type": "code",
   "execution_count": 55,
   "id": "f7311bec",
   "metadata": {},
   "outputs": [
    {
     "data": {
      "image/png": "[encoded data removed]",
      "text/plain": [
       "<Figure size 1600x500 with 1 Axes>"
      ]
     },
     "metadata": {},
     "output_type": "display_data"
    }
   ],
   "source": [
    "#Plot Bar Chart\n",
    "plt.figure(figsize= (16, 5))\n",
    "plt.bar(dfq.columns, coefficients)\n",
    "plt.axhline(0, color = \"r\")\n",
    "plt.show()\n"
   ]
  },
  {
   "cell_type": "markdown",
   "id": "e130a2be",
   "metadata": {},
   "source": [
    "# 5.) Do these coefficient magnitudes make sense?"
   ]
  },
  {
   "cell_type": "markdown",
   "id": "0798b232",
   "metadata": {},
   "source": [
    "The coefficient magnitude makes sense since we would expect that discussion of tariffs would negatively affect the EPS. It's interesting that the only other remaining coefficient is \"banana\", which I would not have expected to be correlated in any way with the Apple EPS. I think this could potentially be caused by a mistake where people are getting results for 'apple' the fruit and not 'apple' the company, the former of which would often be searched with bananas, but I'm unsure as to any other reason why we would be seeing this relationship."
   ]
  },
  {
   "cell_type": "markdown",
   "id": "3a2bd7d7",
   "metadata": {},
   "source": [
    "# 6.) Run a for loop looking at 10 different Lambdas and plot the coefficient magnitude for each."
   ]
  },
  {
   "cell_type": "code",
   "execution_count": null,
   "id": "1f115bee",
   "metadata": {},
   "outputs": [],
   "source": []
  },
  {
   "cell_type": "code",
   "execution_count": null,
   "id": "7a3e12d3",
   "metadata": {},
   "outputs": [],
   "source": []
  },
  {
   "cell_type": "markdown",
   "id": "17b28626",
   "metadata": {},
   "source": [
    "# 7.) Run a cross validation. What is your ideal lambda?"
   ]
  },
  {
   "cell_type": "code",
   "execution_count": null,
   "id": "9fc5cca1",
   "metadata": {},
   "outputs": [],
   "source": []
  },
  {
   "cell_type": "code",
   "execution_count": null,
   "id": "a58a192a",
   "metadata": {},
   "outputs": [],
   "source": []
  }
 ],
 "metadata": {
  "kernelspec": {
   "display_name": "Python 3 (ipykernel)",
   "language": "python",
   "name": "python3"
  },
  "language_info": {
   "codemirror_mode": {
    "name": "ipython",
    "version": 3
   },
   "file_extension": ".py",
   "mimetype": "text/x-python",
   "name": "python",
   "nbconvert_exporter": "python",
   "pygments_lexer": "ipython3",
   "version": "3.11.4"
  }
 },
 "nbformat": 4,
 "nbformat_minor": 5
}
